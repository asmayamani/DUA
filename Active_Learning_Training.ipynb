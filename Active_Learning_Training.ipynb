{
  "nbformat": 4,
  "nbformat_minor": 0,
  "metadata": {
    "colab": {
      "provenance": [],
      "authorship_tag": "ABX9TyNMuHJxj1F4ItEuYsM8Pq1Z",
      "include_colab_link": true
    },
    "kernelspec": {
      "name": "python3",
      "display_name": "Python 3"
    },
    "language_info": {
      "name": "python"
    }
  },
  "cells": [
    {
      "cell_type": "markdown",
      "metadata": {
        "id": "view-in-github",
        "colab_type": "text"
      },
      "source": [
        "<a href=\"https://colab.research.google.com/github/asmayamani/DUA/blob/main/Active_Learning_Training.ipynb\" target=\"_parent\"><img src=\"https://colab.research.google.com/assets/colab-badge.svg\" alt=\"Open In Colab\"/></a>"
      ]
    },
    {
      "cell_type": "code",
      "source": [
        "# Download YOLOv7 repository and install requirements\n",
        "!git clone https://github.com/WongKinYiu/yolov7\n",
        "%cd yolov7\n",
        "!pip install -r requirements.txt\n",
        "import os, glob\n",
        "from PIL import Image\n",
        "from tqdm import tqdm\n",
        "from pathlib import Path\n",
        "import random\n",
        "import shutil"
      ],
      "metadata": {
        "id": "untlh8uU0jcn"
      },
      "execution_count": null,
      "outputs": []
    },
    {
      "cell_type": "code",
      "source": [
        "%cd /content/yolov7\n",
        "!wget https://github.com/WongKinYiu/yolov7/releases/download/v0.1/yolov7_training.pt"
      ],
      "metadata": {
        "id": "Gie9qBR80kcp"
      },
      "execution_count": null,
      "outputs": []
    },
    {
      "cell_type": "code",
      "source": [
        "from google.colab import drive\n",
        "drive.mount('/content/drive', force_remount= True)\n"
      ],
      "metadata": {
        "id": "v1a1eQqb0uVq"
      },
      "execution_count": null,
      "outputs": []
    },
    {
      "cell_type": "code",
      "source": [
        "approach = 'DUA'\n",
        "iteration = 1\n",
        "number_of_random_images_from_training = 5000\n",
        "weighting_approach = 'WRP'\n",
        "expName = 'iteration'+str(iteration)+approach+weighting_approach+'_'+str(number_of_random_images_from_training)"
      ],
      "metadata": {
        "id": "N0DhgrM60w93"
      },
      "execution_count": null,
      "outputs": []
    },
    {
      "cell_type": "code",
      "source": [
        "%cd /content/yolov7\n",
        "w = 'yolov7_training.pt'\n",
        "!python train.py --batch 16 --epochs 100 --data  data.yaml --img 416 --weights {w} --cache --device 0\n"
      ],
      "metadata": {
        "id": "W1D95q5q03or"
      },
      "execution_count": null,
      "outputs": []
    },
    {
      "cell_type": "code",
      "source": [
        "!zip -r /content/drive/MyDrive/AL/Training{expName}_best.zip ./runs/train/exp/weights/best.pt\n"
      ],
      "metadata": {
        "id": "igRuXnsu12Vi"
      },
      "execution_count": null,
      "outputs": []
    }
  ]
}